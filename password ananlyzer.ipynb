{
 "cells": [
  {
   "cell_type": "code",
   "execution_count": 7,
   "metadata": {},
   "outputs": [
    {
     "name": "stdout",
     "output_type": "stream",
     "text": [
      "Password Analysis:Length >= 8 True\n",
      "Has digit True\n",
      "Has uppercase True\n",
      "Has lowercase True\n",
      "Has special character True\n",
      "Strength Strong\n"
     ]
    }
   ],
   "source": [
    "def password_analyzer(password):\n",
    "    \n",
    "    length_ok = False\n",
    "    has_digit = False\n",
    "    has_upper = False\n",
    "    has_lower = False\n",
    "    has_special = False\n",
    "    #for determining length\n",
    "    if len(password) >= 8:\n",
    "        length_ok = True\n",
    "    \n",
    "    # to initialise the password comprising of the character letters and numerics \n",
    "    for char in password:\n",
    "        if char.isdigit():\n",
    "            has_digit = True\n",
    "        if char.isupper():\n",
    "            has_upper = True\n",
    "        if char.islower():\n",
    "            has_lower = True\n",
    "        if char in '!@#$%^&*()-_=+[]{}|;:,.<>?`~':\n",
    "            has_special = True\n",
    "    # overall strength assessment \n",
    "    if length_ok and has_digit and has_upper and has_lower and has_special:\n",
    "        strength = \"Strong\"\n",
    "    elif length_ok and (has_digit or has_upper or has_lower):\n",
    "        strength = \"Moderate\"\n",
    "    else:\n",
    "        strength = \"Weak\"\n",
    "    \n",
    "    # detailed feeback \n",
    "    feedback = {\n",
    "        \"Length >= 8\": length_ok,\n",
    "        \"Has digit\": has_digit,\n",
    "        \"Has uppercase\": has_upper,\n",
    "        \"Has lowercase\": has_lower,\n",
    "        \"Has special character\": has_special,\n",
    "        \"Strength\": strength\n",
    "    }\n",
    "    \n",
    "    return feedback\n",
    "\n",
    "# Example usage:\n",
    "password = input(\"Enter your password: \")\n",
    "analysis = password_analyzer(password)\n",
    "print(\"Password Analysis:\",end='')\n",
    "for key, value in analysis.items():\n",
    "    print(key,value)\n"
   ]
  }
 ],
 "metadata": {
  "kernelspec": {
   "display_name": "Python 3",
   "language": "python",
   "name": "python3"
  },
  "language_info": {
   "codemirror_mode": {
    "name": "ipython",
    "version": 3
   },
   "file_extension": ".py",
   "mimetype": "text/x-python",
   "name": "python",
   "nbconvert_exporter": "python",
   "pygments_lexer": "ipython3",
   "version": "3.11.9"
  }
 },
 "nbformat": 4,
 "nbformat_minor": 2
}
